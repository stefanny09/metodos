{
 "cells": [
  {
   "cell_type": "code",
   "execution_count": null,
   "metadata": {
    "collapsed": false
   },
   "outputs": [],
   "source": [
    "import math\n",
    "import numpy as np\n",
    "import pylab as pl\n",
    "x1=0\n",
    "x2=0\n",
    "i=3\n",
    "funcion = []\n",
    "\n",
    "y1 = []\n",
    "y2= []\n",
    "while i<=5:\n",
    "    x1=(-3.0/2.0)*i +9.0\n",
    "\n",
    "    y1.append(x1)\n",
    "    x2=(i/2.0)+1.0\n",
    "    print \"x=\", i\n",
    "    print \"funcion 1:\",x1\n",
    "    funcion.append(i)\n",
    "    y2.append(x2)\n",
    "    print \"funcion 2:\",x2\n",
    "    i=i+1\n",
    "f1 = pl.plot(funcion,y1, \"r\")\n",
    "f2 = pl.plot(funcion, y2, \"g\")\n",
    "pl.title(\"graficas\")\n",
    "pl.xlabel(\"Tiempo\")\n",
    "pl.ylabel(\"Velocidad\")\n",
    "\n",
    "pl.show()"
   ]
  },
  {
   "cell_type": "code",
   "execution_count": null,
   "metadata": {
    "collapsed": true
   },
   "outputs": [],
   "source": []
  },
  {
   "cell_type": "code",
   "execution_count": null,
   "metadata": {
    "collapsed": true
   },
   "outputs": [],
   "source": []
  }
 ],
 "metadata": {
  "kernelspec": {
   "display_name": "Python 2",
   "language": "python",
   "name": "python2"
  },
  "language_info": {
   "codemirror_mode": {
    "name": "ipython",
    "version": 2
   },
   "file_extension": ".py",
   "mimetype": "text/x-python",
   "name": "python",
   "nbconvert_exporter": "python",
   "pygments_lexer": "ipython2",
   "version": "2.7.10"
  }
 },
 "nbformat": 4,
 "nbformat_minor": 0
}
