{
 "cells": [
  {
   "cell_type": "code",
   "execution_count": 18,
   "metadata": {
    "collapsed": false
   },
   "outputs": [
    {
     "name": "stdout",
     "output_type": "stream",
     "text": [
      "el valor d es:  0.925\n",
      "el valor Real es:  -0.9125\n",
      "el valor del primer intervalo :  0.55\n",
      "el valor del segundo intervalo:  1.45\n",
      "el error total es:  0.397260273973\n",
      "el valor del intervalo completo (0 - 1):  -1.0\n",
      "el error total es:  -0.0958904109589\n"
     ]
    }
   ],
   "source": [
    "import math\n",
    "xl=0\n",
    "h=0.5\n",
    "x=xl+h\n",
    "x1=x+h\n",
    "\n",
    "def fx(x):\n",
    "    return (-0.1*(x**4))-(0.15*(x**3))-(0.5*(x**2))-(0.25*x)+1.2\n",
    "\n",
    "def fde(x):\n",
    "    return (-0.4*((x)**3))-(0.45*((x)**2))-(1*(x))-0.25\n",
    "\n",
    "def fi(x,x1):\n",
    "    f1=(fx(x)-fx(x1))/h\n",
    "    return f1\n",
    "\n",
    "def fm(x,xl):\n",
    "    f2=(fx(xl)-fx(x))/h\n",
    "    return f2\n",
    "\n",
    "def fin(xr,x1):\n",
    "    f3=(fx(x1)-fx(xr))/(2*h)\n",
    "    return f3\n",
    "\n",
    "print \"el valor d es: \", fx(x)\n",
    "print \"el valor Real es: \", fde(x)\n",
    "print \"el valor del primer intervalo : \",fm(x,xl)\n",
    "print \"el valor del segundo intervalo: \",fi(x,x1)\n",
    "print \"el error total es: \", (fde(x)-fi(x,xr))/fde(x)\n",
    "print \"el valor del intervalo completo \",fin(xl,x1)\n",
    "print \"el error total es: \", (fde(x)-fin(xr,x1))/fde(x)"
   ]
  },
  {
   "cell_type": "code",
   "execution_count": null,
   "metadata": {
    "collapsed": true
   },
   "outputs": [],
   "source": []
  }
 ],
 "metadata": {
  "kernelspec": {
   "display_name": "Python 2",
   "language": "python",
   "name": "python2"
  },
  "language_info": {
   "codemirror_mode": {
    "name": "ipython",
    "version": 2
   },
   "file_extension": ".py",
   "mimetype": "text/x-python",
   "name": "python",
   "nbconvert_exporter": "python",
   "pygments_lexer": "ipython2",
   "version": "2.7.10"
  }
 },
 "nbformat": 4,
 "nbformat_minor": 0
}
