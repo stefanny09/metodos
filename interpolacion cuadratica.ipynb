{
 "cells": [
  {
   "cell_type": "code",
   "execution_count": 17,
   "metadata": {
    "collapsed": false
   },
   "outputs": [
    {
     "name": "stdout",
     "output_type": "stream",
     "text": [
      "x: 1\n",
      " valor: 0.0\n",
      "x: 2\n",
      " valor: 0.5658443\n",
      "x: 3\n",
      " valor: 1.0279424\n",
      "x: 4\n",
      " valor: 1.3862943\n",
      "x: 5\n",
      " valor: 1.6409\n",
      "x: 6\n",
      " valor: 1.7917595\n"
     ]
    }
   ],
   "source": [
    "import math\n",
    "import numpy as np\n",
    "import matplotlib.pyplot as plt\n",
    "\n",
    "x = [1,2,3,4,5,6]\n",
    "t = np.linspace(1.0, 6.0, num=100)\n",
    "array_lnx = []\n",
    "interpolacion = []\n",
    "funlnx = []\n",
    "def ln_x():\n",
    "    global array_lnx\n",
    "    global interpolacion\n",
    "    xo = 1\n",
    "    x1 = 4\n",
    "    x2 = 6\n",
    "    \n",
    "    for xi in x:\n",
    "        puntos_funcion = math.log(xi)\n",
    "        if(xo<=6):\n",
    "            b0 = (math.log(xo))\n",
    "            b1 = ((math.log(x1)-math.log(xo))/(x1-xo))\n",
    "            b2 = (((math.log(x2) - math.log(x1))/(x2-x1)) - ((math.log(x1) - math.log(xo))/(x1-xo)))/(x2-xo)\n",
    "            funcion = ((0.4620981*(xi-1)) - (0.0518731*(xi-1)*(xi-4)))\n",
    "            x1=x1+1\n",
    "            xo=xo+1\n",
    "            x2=x2+1\n",
    "        print \"x:\",xi\n",
    "        print \" valor:\",funcion\n",
    "        array_lnx.append(puntos_funcion)\n",
    "        interpolacion.append(funcion)\n",
    "        \n",
    "    \n",
    "def lnx():\n",
    "    global funlnx,t\n",
    "    for i in t:\n",
    "        funlnx.append(math.log(i))\n",
    "    \n",
    "    \n",
    "def graficar():\n",
    "    plt.title(\"GRAFICA\")  \n",
    "    plt.plot(x,interpolacion,'--',label=\"interpolacion\")\n",
    "    plt.plot(t,funlnx,label=\"funcion Ln(x)\")\n",
    "    plt.plot(x,array_lnx,'o')\n",
    "    plt.legend(loc=\"lower right\")\n",
    "    plt.grid(True) \n",
    "    plt.show()\n",
    "  \n",
    "ln_x()\n",
    "lnx()\n",
    "graficar()"
   ]
  },
  {
   "cell_type": "code",
   "execution_count": null,
   "metadata": {
    "collapsed": true
   },
   "outputs": [],
   "source": []
  },
  {
   "cell_type": "code",
   "execution_count": null,
   "metadata": {
    "collapsed": true
   },
   "outputs": [],
   "source": []
  },
  {
   "cell_type": "code",
   "execution_count": null,
   "metadata": {
    "collapsed": true
   },
   "outputs": [],
   "source": []
  }
 ],
 "metadata": {
  "kernelspec": {
   "display_name": "Python 2",
   "language": "python",
   "name": "python2"
  },
  "language_info": {
   "codemirror_mode": {
    "name": "ipython",
    "version": 2
   },
   "file_extension": ".py",
   "mimetype": "text/x-python",
   "name": "python",
   "nbconvert_exporter": "python",
   "pygments_lexer": "ipython2",
   "version": "2.7.10"
  }
 },
 "nbformat": 4,
 "nbformat_minor": 0
}
