{
 "cells": [
  {
   "cell_type": "code",
   "execution_count": 16,
   "metadata": {
    "collapsed": false
   },
   "outputs": [
    {
     "name": "stdout",
     "output_type": "stream",
     "text": [
      "incremento: 2\n",
      "numerica: 1.0\n",
      "error: 1.0\n",
      "\n",
      "incremento: 3\n",
      "numerica: 1.5\n",
      "error: 0.333333333333\n",
      "\n",
      "incremento: 4\n",
      "numerica: 1.625\n",
      "error: 0.0769230769231\n",
      "\n",
      "incremento: 5\n",
      "numerica: 1.64583333333\n",
      "error: 0.0126582278481\n",
      "\n",
      "incremento: 6\n",
      "numerica: 1.6484375\n",
      "error: 0.00157977883096\n",
      "\n",
      "incremento: 7\n",
      "numerica: 1.64869791667\n",
      "error: 0.000157952930027\n",
      "\n"
     ]
    }
   ],
   "source": [
    "import math\n",
    "\n",
    "\n",
    "es = 0.0005\n",
    "ea = 1\n",
    "valan=0.0\n",
    "x = 0.5\n",
    "i=1\n",
    "\n",
    "\n",
    "while ea >= es:\n",
    "    cont = 0\n",
    "    num = 0.0\n",
    "    for ind in xrange(i):\n",
    "        valan=num\n",
    "        num = num + (x**cont)/math.factorial(cont)\n",
    "        cont = cont + 1\n",
    "    ea=(num-valan)/num\n",
    "    i=i+1\n",
    "    \n",
    "    print \"incremento:\",(i)\n",
    "    print \"numerica:\",(num)\n",
    "    print \"error:\",(ea)\n",
    "    print"
   ]
  },
  {
   "cell_type": "code",
   "execution_count": null,
   "metadata": {
    "collapsed": true
   },
   "outputs": [],
   "source": []
  },
  {
   "cell_type": "code",
   "execution_count": null,
   "metadata": {
    "collapsed": true
   },
   "outputs": [],
   "source": []
  }
 ],
 "metadata": {
  "kernelspec": {
   "display_name": "Python 2",
   "language": "python",
   "name": "python2"
  },
  "language_info": {
   "codemirror_mode": {
    "name": "ipython",
    "version": 2
   },
   "file_extension": ".py",
   "mimetype": "text/x-python",
   "name": "python",
   "nbconvert_exporter": "python",
   "pygments_lexer": "ipython2",
   "version": "2.7.10"
  }
 },
 "nbformat": 4,
 "nbformat_minor": 0
}
