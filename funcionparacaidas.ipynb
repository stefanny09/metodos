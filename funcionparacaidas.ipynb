{
 "cells": [
  {
   "cell_type": "code",
   "execution_count": null,
   "metadata": {
    "collapsed": false
   },
   "outputs": [],
   "source": [
    "import math\n",
    "import numpy as np\n",
    "import pylab as pl\n",
    "es= 0.0005\n",
    "g=9.8\n",
    "m= 68.1\n",
    "et=1\n",
    "va=0\n",
    "vn=0\n",
    "c=12.5\n",
    "t=0\n",
    "vi=0\n",
    "contador = []\n",
    "velocidada= []\n",
    "velocidadn= []\n",
    "\n",
    "for x in xrange(100):\n",
    "      if et >= es:\n",
    "            va= (g*m/c)*(1-math.exp(-(c/m)*t))\n",
    "            vn= vi+(g-((c/m)*vi))*((t+1)-t)\n",
    "            vi=vn\n",
    "            contador.append(t)\n",
    "            t=t+1\n",
    "            velocidada.append(va)\n",
    "            velocidadn.append(vn)\n",
    "            if(va>=1):\n",
    "                et  = (vn-va)/va\n",
    "\n",
    "            print (\"tiempo %d \") %t\n",
    "            print (\"La velocidad analitica es: %f\") %va\n",
    "            print (\"La velocidad numerica es: %f\") %vn\n",
    "            print (\"El error total es : %f\") % et          \n",
    "ana= pl.plot(contador,velocidada,\"r\")\n",
    "num= pl.plot(contador, velocidadn,\"g\")\n",
    "pl.title(\"relacion de las velocidades\")\n",
    "pl.xlabel(\"Tiempo\")\n",
    "pl.ylabel(\"Velocidad\")\n",
    "pl.xlim(0.0, 50)\n",
    "pl.ylim(0.0, 60)\n",
    "pl.legend( [ana,num], (\"Velocidad analitica\", \"velocidad aproximada\") , \"best\", numpoints=1)\n",
    "pl.show()\n"
   ]
  },
  {
   "cell_type": "code",
   "execution_count": 1,
   "metadata": {
    "collapsed": false
   },
   "outputs": [
    {
     "name": "stdout",
     "output_type": "stream",
     "text": [
      "tiempo 1 \n",
      "La velocidad analitica es: 0.000000\n",
      "La velocidad numerica es: 9.800000\n",
      "El error total es : 1.000000\n",
      "tiempo 2 \n",
      "La velocidad analitica es: 8.953182\n",
      "La velocidad numerica es: 17.801175\n",
      "El error total es : 0.988251\n",
      "tiempo 3 \n",
      "La velocidad analitica es: 16.404981\n",
      "La velocidad numerica es: 24.333705\n",
      "El error total es : 0.483312\n",
      "tiempo 4 \n",
      "La velocidad analitica es: 22.607167\n",
      "La velocidad numerica es: 29.667166\n",
      "El error total es : 0.312290\n",
      "tiempo 5 \n",
      "La velocidad analitica es: 27.769291\n",
      "La velocidad numerica es: 34.021651\n",
      "El error total es : 0.225154\n",
      "tiempo 6 \n",
      "La velocidad analitica es: 32.065765\n",
      "La velocidad numerica es: 37.576854\n",
      "El error total es : 0.171868\n",
      "tiempo 7 \n",
      "La velocidad analitica es: 35.641752\n",
      "La velocidad numerica es: 40.479488\n",
      "El error total es : 0.135732\n",
      "tiempo 8 \n",
      "La velocidad analitica es: 38.618071\n",
      "La velocidad numerica es: 42.849332\n",
      "El error total es : 0.109567\n",
      "tiempo 9 \n",
      "La velocidad analitica es: 41.095283\n",
      "La velocidad numerica es: 44.784183\n",
      "El error total es : 0.089765\n",
      "tiempo 10 \n",
      "La velocidad analitica es: 43.157085\n",
      "La velocidad numerica es: 46.363885\n",
      "El error total es : 0.074305\n",
      "tiempo 11 \n",
      "La velocidad analitica es: 44.873138\n",
      "La velocidad numerica es: 47.653627\n",
      "El error total es : 0.061963\n",
      "tiempo 12 \n",
      "La velocidad analitica es: 46.301421\n",
      "La velocidad numerica es: 48.706632\n",
      "El error total es : 0.051947\n",
      "tiempo 13 \n",
      "La velocidad analitica es: 47.490191\n",
      "La velocidad numerica es: 49.566355\n",
      "El error total es : 0.043718\n",
      "tiempo 14 \n",
      "La velocidad analitica es: 48.479613\n",
      "La velocidad numerica es: 50.268272\n",
      "El error total es : 0.036895\n",
      "tiempo 15 \n",
      "La velocidad analitica es: 49.303116\n",
      "La velocidad numerica es: 50.841350\n",
      "El error total es : 0.031200\n",
      "tiempo 16 \n",
      "La velocidad analitica es: 49.988524\n",
      "La velocidad numerica es: 51.309237\n",
      "El error total es : 0.026420\n",
      "tiempo 17 \n",
      "La velocidad analitica es: 50.558994\n",
      "La velocidad numerica es: 51.691242\n",
      "El error total es : 0.022395\n",
      "tiempo 18 \n",
      "La velocidad analitica es: 51.033800\n",
      "La velocidad numerica es: 52.003129\n",
      "El error total es : 0.018994\n",
      "tiempo 19 \n",
      "La velocidad analitica es: 51.428985\n",
      "La velocidad numerica es: 52.257767\n",
      "El error total es : 0.016115\n",
      "tiempo 20 \n",
      "La velocidad analitica es: 51.757900\n",
      "La velocidad numerica es: 52.465666\n",
      "El error total es : 0.013675\n",
      "tiempo 21 \n",
      "La velocidad analitica es: 52.031658\n",
      "La velocidad numerica es: 52.635404\n",
      "El error total es : 0.011603\n",
      "tiempo 22 \n",
      "La velocidad analitica es: 52.259509\n",
      "La velocidad numerica es: 52.773987\n",
      "El error total es : 0.009845\n",
      "tiempo 23 \n",
      "La velocidad analitica es: 52.449152\n",
      "La velocidad numerica es: 52.887131\n",
      "El error total es : 0.008351\n",
      "tiempo 24 \n",
      "La velocidad analitica es: 52.606992\n",
      "La velocidad numerica es: 52.979508\n",
      "El error total es : 0.007081\n",
      "tiempo 25 \n",
      "La velocidad analitica es: 52.738364\n",
      "La velocidad numerica es: 53.054929\n",
      "El error total es : 0.006003\n",
      "tiempo 26 \n",
      "La velocidad analitica es: 52.847706\n",
      "La velocidad numerica es: 53.116506\n",
      "El error total es : 0.005086\n",
      "tiempo 27 \n",
      "La velocidad analitica es: 52.938712\n",
      "La velocidad numerica es: 53.166780\n",
      "El error total es : 0.004308\n",
      "tiempo 28 \n",
      "La velocidad analitica es: 53.014456\n",
      "La velocidad numerica es: 53.207826\n",
      "El error total es : 0.003647\n",
      "tiempo 29 \n",
      "La velocidad analitica es: 53.077499\n",
      "La velocidad numerica es: 53.241338\n",
      "El error total es : 0.003087\n",
      "tiempo 30 \n",
      "La velocidad analitica es: 53.129971\n",
      "La velocidad numerica es: 53.268699\n",
      "El error total es : 0.002611\n",
      "tiempo 31 \n",
      "La velocidad analitica es: 53.173643\n",
      "La velocidad numerica es: 53.291038\n",
      "El error total es : 0.002208\n",
      "tiempo 32 \n",
      "La velocidad analitica es: 53.209991\n",
      "La velocidad numerica es: 53.309276\n",
      "El error total es : 0.001866\n",
      "tiempo 33 \n",
      "La velocidad analitica es: 53.240245\n",
      "La velocidad numerica es: 53.324167\n",
      "El error total es : 0.001576\n",
      "tiempo 34 \n",
      "La velocidad analitica es: 53.265425\n",
      "La velocidad numerica es: 53.336324\n",
      "El error total es : 0.001331\n",
      "tiempo 35 \n",
      "La velocidad analitica es: 53.286382\n",
      "La velocidad numerica es: 53.346250\n",
      "El error total es : 0.001124\n",
      "tiempo 36 \n",
      "La velocidad analitica es: 53.303825\n",
      "La velocidad numerica es: 53.354354\n",
      "El error total es : 0.000948\n",
      "tiempo 37 \n",
      "La velocidad analitica es: 53.318343\n",
      "La velocidad numerica es: 53.360970\n",
      "El error total es : 0.000799\n",
      "tiempo 38 \n",
      "La velocidad analitica es: 53.330426\n",
      "La velocidad numerica es: 53.366372\n",
      "El error total es : 0.000674\n",
      "tiempo 39 \n",
      "La velocidad analitica es: 53.340484\n",
      "La velocidad numerica es: 53.370783\n",
      "El error total es : 0.000568\n",
      "tiempo 40 \n",
      "La velocidad analitica es: 53.348854\n",
      "La velocidad numerica es: 53.374383\n",
      "El error total es : 0.000479\n"
     ]
    },
    {
     "name": "stderr",
     "output_type": "stream",
     "text": [
      "C:\\Users\\asus\\Anaconda\\lib\\site-packages\\matplotlib\\cbook.py:137: MatplotlibDeprecationWarning: The \"loc\" positional argument to legend is deprecated. Please use the \"loc\" keyword instead.\n",
      "  warnings.warn(message, mplDeprecation, stacklevel=1)\n",
      "C:\\Users\\asus\\Anaconda\\lib\\site-packages\\matplotlib\\legend.py:611: UserWarning: Legend does not support [<matplotlib.lines.Line2D object at 0x067B49B0>] instances.\n",
      "A proxy artist may be used instead.\n",
      "See: http://matplotlib.org/users/legend_guide.html#using-proxy-artist\n",
      "  \"#using-proxy-artist\".format(orig_handle))\n",
      "C:\\Users\\asus\\Anaconda\\lib\\site-packages\\matplotlib\\legend.py:611: UserWarning: Legend does not support [<matplotlib.lines.Line2D object at 0x02475830>] instances.\n",
      "A proxy artist may be used instead.\n",
      "See: http://matplotlib.org/users/legend_guide.html#using-proxy-artist\n",
      "  \"#using-proxy-artist\".format(orig_handle))\n"
     ]
    }
   ],
   "source": [
    "import math\n",
    "import numpy as np\n",
    "import pylab as pl\n",
    "es= 0.0005\n",
    "g=9.8\n",
    "m= 68.1\n",
    "et=1\n",
    "va=0\n",
    "vn=0\n",
    "c=12.5\n",
    "t=0\n",
    "vi=0\n",
    "contador = []\n",
    "velocidada= []\n",
    "velocidadn= []\n",
    "\n",
    "for x in xrange(100):\n",
    "      if et >= es:\n",
    "            va= (g*m/c)*(1-math.exp(-(c/m)*t))\n",
    "            vn= vi+(g-((c/m)*vi))*((t+1)-t)\n",
    "            vi=vn\n",
    "            contador.append(t)\n",
    "            t=t+1\n",
    "            velocidada.append(va)\n",
    "            velocidadn.append(vn)\n",
    "            if(va>=1):\n",
    "                et  = (vn-va)/va\n",
    "\n",
    "            print (\"tiempo %d \") %t\n",
    "            print (\"La velocidad analitica es: %f\") %va\n",
    "            print (\"La velocidad numerica es: %f\") %vn\n",
    "            print (\"El error total es : %f\") % et          \n",
    "ana= pl.plot(contador,velocidada,\"r\")\n",
    "num= pl.plot(contador, velocidadn,\"g\")\n",
    "pl.title(\"relacion de las velocidades\")\n",
    "pl.xlabel(\"Tiempo\")\n",
    "pl.ylabel(\"Velocidad\")\n",
    "pl.xlim(0.0, 50)\n",
    "pl.ylim(0.0, 60)\n",
    "pl.legend( [ana,num], (\"Velocidad analitica\", \"velocidad aproximada\") , \"best\", numpoints=1)\n",
    "pl.show()\n"
   ]
  },
  {
   "cell_type": "code",
   "execution_count": null,
   "metadata": {
    "collapsed": true
   },
   "outputs": [],
   "source": []
  },
  {
   "cell_type": "code",
   "execution_count": null,
   "metadata": {
    "collapsed": true
   },
   "outputs": [],
   "source": []
  },
  {
   "cell_type": "code",
   "execution_count": null,
   "metadata": {
    "collapsed": true
   },
   "outputs": [],
   "source": []
  },
  {
   "cell_type": "code",
   "execution_count": null,
   "metadata": {
    "collapsed": true
   },
   "outputs": [],
   "source": []
  },
  {
   "cell_type": "code",
   "execution_count": null,
   "metadata": {
    "collapsed": true
   },
   "outputs": [],
   "source": []
  },
  {
   "cell_type": "code",
   "execution_count": null,
   "metadata": {
    "collapsed": true
   },
   "outputs": [],
   "source": []
  },
  {
   "cell_type": "code",
   "execution_count": null,
   "metadata": {
    "collapsed": true
   },
   "outputs": [],
   "source": []
  },
  {
   "cell_type": "code",
   "execution_count": null,
   "metadata": {
    "collapsed": true
   },
   "outputs": [],
   "source": []
  },
  {
   "cell_type": "code",
   "execution_count": null,
   "metadata": {
    "collapsed": true
   },
   "outputs": [],
   "source": []
  },
  {
   "cell_type": "code",
   "execution_count": null,
   "metadata": {
    "collapsed": true
   },
   "outputs": [],
   "source": []
  },
  {
   "cell_type": "code",
   "execution_count": null,
   "metadata": {
    "collapsed": true
   },
   "outputs": [],
   "source": []
  },
  {
   "cell_type": "code",
   "execution_count": null,
   "metadata": {
    "collapsed": true
   },
   "outputs": [],
   "source": []
  },
  {
   "cell_type": "code",
   "execution_count": null,
   "metadata": {
    "collapsed": true
   },
   "outputs": [],
   "source": []
  },
  {
   "cell_type": "code",
   "execution_count": null,
   "metadata": {
    "collapsed": true
   },
   "outputs": [],
   "source": []
  },
  {
   "cell_type": "code",
   "execution_count": null,
   "metadata": {
    "collapsed": true
   },
   "outputs": [],
   "source": []
  },
  {
   "cell_type": "code",
   "execution_count": null,
   "metadata": {
    "collapsed": true
   },
   "outputs": [],
   "source": []
  },
  {
   "cell_type": "code",
   "execution_count": null,
   "metadata": {
    "collapsed": true
   },
   "outputs": [],
   "source": []
  },
  {
   "cell_type": "code",
   "execution_count": null,
   "metadata": {
    "collapsed": true
   },
   "outputs": [],
   "source": []
  },
  {
   "cell_type": "code",
   "execution_count": null,
   "metadata": {
    "collapsed": true
   },
   "outputs": [],
   "source": []
  },
  {
   "cell_type": "code",
   "execution_count": null,
   "metadata": {
    "collapsed": true
   },
   "outputs": [],
   "source": []
  },
  {
   "cell_type": "code",
   "execution_count": null,
   "metadata": {
    "collapsed": true
   },
   "outputs": [],
   "source": []
  },
  {
   "cell_type": "code",
   "execution_count": null,
   "metadata": {
    "collapsed": true
   },
   "outputs": [],
   "source": []
  },
  {
   "cell_type": "code",
   "execution_count": null,
   "metadata": {
    "collapsed": true
   },
   "outputs": [],
   "source": []
  },
  {
   "cell_type": "code",
   "execution_count": null,
   "metadata": {
    "collapsed": true
   },
   "outputs": [],
   "source": []
  },
  {
   "cell_type": "code",
   "execution_count": null,
   "metadata": {
    "collapsed": true
   },
   "outputs": [],
   "source": []
  },
  {
   "cell_type": "code",
   "execution_count": null,
   "metadata": {
    "collapsed": true
   },
   "outputs": [],
   "source": []
  },
  {
   "cell_type": "code",
   "execution_count": null,
   "metadata": {
    "collapsed": true
   },
   "outputs": [],
   "source": []
  },
  {
   "cell_type": "code",
   "execution_count": null,
   "metadata": {
    "collapsed": true
   },
   "outputs": [],
   "source": []
  },
  {
   "cell_type": "code",
   "execution_count": null,
   "metadata": {
    "collapsed": true
   },
   "outputs": [],
   "source": []
  },
  {
   "cell_type": "code",
   "execution_count": null,
   "metadata": {
    "collapsed": true
   },
   "outputs": [],
   "source": []
  },
  {
   "cell_type": "code",
   "execution_count": null,
   "metadata": {
    "collapsed": true
   },
   "outputs": [],
   "source": []
  },
  {
   "cell_type": "code",
   "execution_count": null,
   "metadata": {
    "collapsed": true
   },
   "outputs": [],
   "source": []
  },
  {
   "cell_type": "code",
   "execution_count": null,
   "metadata": {
    "collapsed": true
   },
   "outputs": [],
   "source": []
  },
  {
   "cell_type": "code",
   "execution_count": null,
   "metadata": {
    "collapsed": true
   },
   "outputs": [],
   "source": []
  }
 ],
 "metadata": {
  "kernelspec": {
   "display_name": "Python 2",
   "language": "python",
   "name": "python2"
  },
  "language_info": {
   "codemirror_mode": {
    "name": "ipython",
    "version": 2
   },
   "file_extension": ".py",
   "mimetype": "text/x-python",
   "name": "python",
   "nbconvert_exporter": "python",
   "pygments_lexer": "ipython2",
   "version": "2.7.10"
  }
 },
 "nbformat": 4,
 "nbformat_minor": 0
}
