{
 "cells": [
  {
   "cell_type": "code",
   "execution_count": 20,
   "metadata": {
    "collapsed": false
   },
   "outputs": [],
   "source": [
    "import math\n",
    "import numpy as np\n",
    "import pylab as pl\n",
    "\n",
    "y1= []\n",
    "x1 = []\n",
    "y2= []\n",
    "y3= []\n",
    "fu1=[]\n",
    "fu2=[]\n",
    "m1=[8.953,16.405,22.607,27.769,32.065,35.641,38.617,41.095,43.156,44.872,46.301,47.490,48.479,49.303,49.988]\n",
    "m2=[11.240,18.570,23.556,27.556,30.509,32.855,34.766,36.351,37.687,38.829,39.816,40.678,41.437,42.110,42.712]\n",
    "v=[10.00,16.30,23.00,27.50,31.00,35.60,39.00,41.50,42.90,45.00,46.00,45.50,46.00,49.00,50.00]\n",
    "def a():\n",
    "    funcion1=0.0\n",
    "    funcion2=0.0\n",
    "    t=0\n",
    "    \n",
    "     #for yi in m1:\n",
    "        #sumatoria_xiyi = sumatoria_xiyi + (xi*yi)\n",
    "        #sumatoria_yi = sumatoria_yi + yi\n",
    "        #sumatoria_xi = sumatoria_xi + xi\n",
    "        #sumatoria_xiCuadra = sumatoria_xiCuadra + (xi)**2 \n",
    "        #array_xi.append(xi);\n",
    "        #array_yi.append(yi);\n",
    "    for t in range(15): \n",
    "        x1.append(t)\n",
    "        y1.append(v[t])\n",
    "        y2.append(m1[t])\n",
    "        y3.append(m2[t])\n",
    "        funcion1=15.25+(2.70*(t+1))\n",
    "        fu1.append(funcion1)\n",
    "        funcion2=+(17.76+1.94*(t+1))\n",
    "        fu2.append(funcion2)\n",
    "a()\n",
    "\n",
    "pl.plot(x1,y1,\"bo\",label='medida')\n",
    "pl.plot(x1,y2, \"r\",label='modelo 1')\n",
    "pl.plot(x1,y3, \"g\",label='modelo 2')\n",
    "pl.title(\"graficas modelos\")\n",
    "pl.legend()\n",
    "pl.xlabel(\"Tiempo\")\n",
    "pl.ylabel(\"Velocidad\")\n",
    "pl.show()  \n",
    "\n",
    "pl.plot(x1,fu1, \"r\",label='regresion modelo 1')\n",
    "pl.plot(x1,y1, \"bo\",label='medida')\n",
    "pl.title(\"coeficientes\")\n",
    "pl.legend()\n",
    "pl.xlabel(\"Tiempo\")\n",
    "pl.ylabel(\"modelos\")\n",
    "pl.show()  \n",
    "\n",
    "\n",
    "pl.plot(x1,fu2,label='regresion modelo 2')\n",
    "pl.plot(x1,y1,\"bo\",label='medida')\n",
    "pl.title(\"coeficientes\")\n",
    "pl.legend()\n",
    "pl.xlabel(\"Tiempo\")\n",
    "pl.ylabel(\"modelos\")\n",
    "pl.show()  \n",
    "\n",
    "\n",
    "\n",
    "\n",
    "\n",
    "        \n",
    "\n",
    "        \n",
    "        "
   ]
  },
  {
   "cell_type": "code",
   "execution_count": null,
   "metadata": {
    "collapsed": true
   },
   "outputs": [],
   "source": []
  },
  {
   "cell_type": "code",
   "execution_count": null,
   "metadata": {
    "collapsed": true
   },
   "outputs": [],
   "source": []
  },
  {
   "cell_type": "code",
   "execution_count": null,
   "metadata": {
    "collapsed": true
   },
   "outputs": [],
   "source": []
  }
 ],
 "metadata": {
  "kernelspec": {
   "display_name": "Python 2",
   "language": "python",
   "name": "python2"
  },
  "language_info": {
   "codemirror_mode": {
    "name": "ipython",
    "version": 2
   },
   "file_extension": ".py",
   "mimetype": "text/x-python",
   "name": "python",
   "nbconvert_exporter": "python",
   "pygments_lexer": "ipython2",
   "version": "2.7.10"
  }
 },
 "nbformat": 4,
 "nbformat_minor": 0
}
