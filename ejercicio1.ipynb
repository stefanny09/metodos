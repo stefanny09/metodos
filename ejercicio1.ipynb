{
 "cells": [
  {
   "cell_type": "code",
   "execution_count": 2,
   "metadata": {
    "collapsed": false
   },
   "outputs": [
    {
     "name": "stdout",
     "output_type": "stream",
     "text": [
      "[4.0, -1.0, 5.0]\n",
      "[0.0, 3.75, -7.75]\n",
      "[0.0, 0.0, -3.2666666666666666]\n",
      "x 1 = 3.0 x 2 = 3.0 x 3 = -3.0\n"
     ]
    }
   ],
   "source": [
    "n=3\n",
    "factor=0.0\n",
    "def Gauss():\n",
    " \n",
    "    c=[[4.0,-1.0,5.0],[3.0,3.0,-4.0],[6.0,2.0,-3.0]]\n",
    "    r=[-6.0,30.0,33.0]\n",
    "    x=[0.0,0.0,0.0]    \n",
    "    for k in range(0,n-1):\n",
    "        for i in range(k+1,n):\n",
    "            factor=(c[i][k])/(c[k][k])\n",
    "            for j in range(k,n):\n",
    "                c[i][j]=c[i][j]-factor*c[k][j]\n",
    "            r[i]=r[i]-factor*r[k]\n",
    "    print c[0]\n",
    "    print c[1]\n",
    "    print c[2]\n",
    "    m=2\n",
    "    \n",
    " \n",
    "    x[m]=r[m]/c[m][m]\n",
    "    for i in range(n-1,-1,-1):\n",
    "        sum=r[i]\n",
    "        for j in range(i+1,n):\n",
    "            sum = sum - ((c[i][j])*x[j])\n",
    "        x[i]=sum/c[i][i]\n",
    "    while(i<len(x)):\n",
    "        print \"x\", i+1, \"=\",round(x[i]) , \n",
    "        i=i+1\n",
    "               \n",
    "Gauss()"
   ]
  },
  {
   "cell_type": "code",
   "execution_count": null,
   "metadata": {
    "collapsed": true
   },
   "outputs": [],
   "source": []
  }
 ],
 "metadata": {
  "kernelspec": {
   "display_name": "Python 2",
   "language": "python",
   "name": "python2"
  },
  "language_info": {
   "codemirror_mode": {
    "name": "ipython",
    "version": 2
   },
   "file_extension": ".py",
   "mimetype": "text/x-python",
   "name": "python",
   "nbconvert_exporter": "python",
   "pygments_lexer": "ipython2",
   "version": "2.7.10"
  }
 },
 "nbformat": 4,
 "nbformat_minor": 0
}
