{
 "cells": [
  {
   "cell_type": "code",
   "execution_count": 4,
   "metadata": {
    "collapsed": false
   },
   "outputs": [
    {
     "name": "stdout",
     "output_type": "stream",
     "text": [
      " ecuacion 1\n",
      "\n",
      "valor 400 valor funcion 0\n",
      "valor 400.5 valor funcion 56.0\n",
      "valor 401.0 valor funcion 56.055\n",
      "valor 401.5 valor funcion 56.11\n",
      "valor 402.0 valor funcion 56.165\n",
      "valor 402.5 valor funcion 56.22\n",
      "valor 403.0 valor funcion 56.275\n",
      "valor 403.5 valor funcion 56.33\n",
      "valor 404.0 valor funcion 56.385\n",
      "valor 404.5 valor funcion 56.44\n",
      "valor 405.0 valor funcion 56.495\n",
      "valor 405.5 valor funcion 56.55\n",
      "valor 406.0 valor funcion 56.605\n",
      "valor 406.5 valor funcion 56.66\n",
      "valor 407.0 valor funcion 56.715\n",
      "valor 407.5 valor funcion 56.77\n",
      "valor 408.0 valor funcion 56.825\n",
      "valor 408.5 valor funcion 56.88\n",
      "valor 409.0 valor funcion 56.935\n",
      "valor 409.5 valor funcion 56.99\n",
      "valor 410.0 valor funcion 57.045\n",
      "\n",
      " ecuacion 2\n",
      "\n",
      "valor 400 valor funcion 0\n",
      "valor 400.5 valor funcion 55\n",
      "valor 401.0 valor funcion 56.0344827586\n",
      "valor 401.5 valor funcion 56.091954023\n",
      "valor 402.0 valor funcion 56.1494252874\n",
      "valor 402.5 valor funcion 56.2068965517\n",
      "valor 403.0 valor funcion 56.2643678161\n",
      "valor 403.5 valor funcion 56.3218390805\n",
      "valor 404.0 valor funcion 56.3793103448\n",
      "valor 404.5 valor funcion 56.4367816092\n",
      "valor 405.0 valor funcion 56.4942528736\n",
      "valor 405.5 valor funcion 56.5517241379\n",
      "valor 406.0 valor funcion 56.6091954023\n",
      "valor 406.5 valor funcion 56.6666666667\n",
      "valor 407.0 valor funcion 56.724137931\n",
      "valor 407.5 valor funcion 56.7816091954\n",
      "valor 408.0 valor funcion 56.8390804598\n",
      "valor 408.5 valor funcion 56.8965517241\n",
      "valor 409.0 valor funcion 56.9540229885\n",
      "valor 409.5 valor funcion 57.0114942529\n",
      "valor 410.0 valor funcion 57.0689655172\n"
     ]
    }
   ],
   "source": [
    "import pylab as plt\n",
    "import math\n",
    "x1=[]\n",
    "x2=[]\n",
    "x3=[]\n",
    "x4=[]\n",
    "\n",
    "def a():\n",
    "    x=400\n",
    "    y=0    \n",
    "    while (x<=410):   \n",
    "        print \"valor\",x,\"valor funcion\",y\n",
    "        y= 12 + ( 0.11*x )\n",
    "        x=x+0.5\n",
    "        x1.append(x)\n",
    "        x2.append(y)        \n",
    "        \n",
    "def b():\n",
    "    xs=400\n",
    "    t=0\n",
    "    while (xs<=410): \n",
    "        print\"valor\", xs,\"valor funcion\", t\n",
    "        t= 10 + ( (xs*10)/87 )\n",
    "        xs=xs+0.5\n",
    "        x3.append(xs)\n",
    "        x4.append(t)\n",
    "        \n",
    "print \" ecuacion 1\"\n",
    "print\n",
    "a()\n",
    "print\n",
    "print \" ecuacion 2\"\n",
    "print\n",
    "b()"
   ]
  },
  {
   "cell_type": "code",
   "execution_count": null,
   "metadata": {
    "collapsed": true
   },
   "outputs": [],
   "source": []
  }
 ],
 "metadata": {
  "kernelspec": {
   "display_name": "Python 2",
   "language": "python",
   "name": "python2"
  },
  "language_info": {
   "codemirror_mode": {
    "name": "ipython",
    "version": 2
   },
   "file_extension": ".py",
   "mimetype": "text/x-python",
   "name": "python",
   "nbconvert_exporter": "python",
   "pygments_lexer": "ipython2",
   "version": "2.7.10"
  }
 },
 "nbformat": 4,
 "nbformat_minor": 0
}
