{
 "cells": [
  {
   "cell_type": "code",
   "execution_count": 1,
   "metadata": {
    "collapsed": false
   },
   "outputs": [
    {
     "name": "stdout",
     "output_type": "stream",
     "text": [
      "la media es:  20.4\n",
      "la desviacion estandar es:  1.39170474788\n",
      "0.0285714285714\n",
      "20.1\n"
     ]
    }
   ],
   "source": [
    "import math\n",
    "import numpy as np\n",
    "import matplotlib.pyplot as plt\n",
    "valores = [19,19,23,21,21,21,19,18,20,22,22,21,19,19,20,20,20,21,20,23]\n",
    "x = [1.0,2.0,3.0,4.0,5.0,6.0,7.0,8.0,9.0,10.0,11.0,12.0,13.0,14.0,15.0,16.0,17.0,18.0,19.0,20.0]\n",
    "def media():\n",
    "    media = 0.0\n",
    "    suma_total=0.0\n",
    "    for x in valores:\n",
    "        media=media + x\n",
    "    total = media/20\n",
    "    \n",
    "    for y in valores:\n",
    "        suma_total = (suma_total + ((y-total)**2))\n",
    "        desv_estandar = math.sqrt(suma_total/19)\n",
    "    print \"la media es: \",total\n",
    "    print \"la desviacion estandar es: \",desv_estandar\n",
    "\n",
    "def Ajuste_Curvas():\n",
    "    xi = 1\n",
    "    sumatoria_xiyi=0.0\n",
    "    sumatoria_yi=0.0\n",
    "    sumatoria_xi=0.0\n",
    "    sumatoria_xiCuadra=0.0\n",
    "    array_xi=[]\n",
    "    array_yi=[]\n",
    "    array_recta = []\n",
    "    for yi in valores:\n",
    "        sumatoria_xiyi = sumatoria_xiyi + (xi*yi)\n",
    "        sumatoria_yi = sumatoria_yi + yi\n",
    "        sumatoria_xi = sumatoria_xi + xi\n",
    "        sumatoria_xiCuadra = sumatoria_xiCuadra + (xi)**2 \n",
    "        array_xi.append(xi);\n",
    "        array_yi.append(yi);\n",
    "        xi= xi+1\n",
    "    aUno = ((20*sumatoria_xiyi) - (sumatoria_xi*sumatoria_yi))/((20*sumatoria_xiCuadra) - (sumatoria_xi)**2)\n",
    "    aCero = (sumatoria_yi*0.05) - (aUno*(sumatoria_xi*0.05))\n",
    "    for xi in x:\n",
    "        recta = aCero + (aUno*xi)\n",
    "        array_recta.append(recta)\n",
    "    plt.plot(array_xi,array_recta,label=\"Recta\")\n",
    "    plt.plot(array_xi,array_yi,'o')\n",
    "    plt.legend(loc=\"upper right\")\n",
    "    plt.show()\n",
    "    \n",
    "    print aUno\n",
    "    print aCero\n",
    "    #print sumatoria_yi\n",
    "    #print sumatoria_xi\n",
    "    #print sumatoria_xiCuadra\n",
    "        \n",
    "media()\n",
    "Ajuste_Curvas()    "
   ]
  },
  {
   "cell_type": "code",
   "execution_count": null,
   "metadata": {
    "collapsed": true
   },
   "outputs": [],
   "source": []
  },
  {
   "cell_type": "code",
   "execution_count": null,
   "metadata": {
    "collapsed": true
   },
   "outputs": [],
   "source": []
  },
  {
   "cell_type": "code",
   "execution_count": null,
   "metadata": {
    "collapsed": true
   },
   "outputs": [],
   "source": []
  }
 ],
 "metadata": {
  "kernelspec": {
   "display_name": "Python 2",
   "language": "python",
   "name": "python2"
  },
  "language_info": {
   "codemirror_mode": {
    "name": "ipython",
    "version": 2
   },
   "file_extension": ".py",
   "mimetype": "text/x-python",
   "name": "python",
   "nbconvert_exporter": "python",
   "pygments_lexer": "ipython2",
   "version": "2.7.10"
  }
 },
 "nbformat": 4,
 "nbformat_minor": 0
}
