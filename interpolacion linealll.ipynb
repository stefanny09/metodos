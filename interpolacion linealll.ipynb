{
 "cells": [
  {
   "cell_type": "code",
   "execution_count": 3,
   "metadata": {
    "collapsed": false
   },
   "outputs": [
    {
     "name": "stdout",
     "output_type": "stream",
     "text": [
      "val:  [1 2 3] valor:  [  2.71828183   7.3890561   20.08553692]\n"
     ]
    }
   ],
   "source": [
    "import numpy as np\n",
    "import matplotlib.pyplot as plt\n",
    "\n",
    "t=[]\n",
    "dat=[]\n",
    "aux=[]\n",
    "xp=[1.0,2.0,3.0,4.0,5.0]\n",
    "xp=np.array(xp)\n",
    "y1=np.arange(1, 4, 1)\n",
    "\n",
    "def funs(t):\n",
    "    return np.exp(t)\n",
    "\n",
    "def inter(t,i):\n",
    "        return (funs(xp[i-1]))+((((funs(xp[i]))-(funs(xp[i-1])))/(xp[i]-xp[i-1]))*(t-xp[i-1]))\n",
    "\n",
    "aux=funs(xp)\n",
    "i=1\n",
    "while i<5:\n",
    "    t=[xp[i-1],xp[i]]\n",
    "    dat=inter(t,i)\n",
    "    plt.plot(t,dat, color=\"g\", linestyle=\"--\")\n",
    "    i+=1\n",
    "\n",
    "print \"val: \", y1, \"valor: \", funs(y1) \n",
    "plt.plot(y1,funs(y1), color=\"r\", label=\"Ln\")    \n",
    "\n",
    "plt.title(\"Funcion Ln(x)\")  \n",
    "plt.xlabel(\"Tiempo (s)\")   \n",
    "plt.ylabel(\"Logaritmo natural \")   \n",
    "plt.grid(True)  \n",
    "plt.legend(loc=\"lower right\")\n",
    "plt.show()"
   ]
  },
  {
   "cell_type": "code",
   "execution_count": null,
   "metadata": {
    "collapsed": true
   },
   "outputs": [],
   "source": []
  }
 ],
 "metadata": {
  "kernelspec": {
   "display_name": "Python 2",
   "language": "python",
   "name": "python2"
  },
  "language_info": {
   "codemirror_mode": {
    "name": "ipython",
    "version": 2
   },
   "file_extension": ".py",
   "mimetype": "text/x-python",
   "name": "python",
   "nbconvert_exporter": "python",
   "pygments_lexer": "ipython2",
   "version": "2.7.10"
  }
 },
 "nbformat": 4,
 "nbformat_minor": 0
}
