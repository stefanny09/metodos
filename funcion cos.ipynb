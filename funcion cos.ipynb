{
 "cells": [
  {
   "cell_type": "code",
   "execution_count": 8,
   "metadata": {
    "collapsed": false
   },
   "outputs": [
    {
     "name": "stdout",
     "output_type": "stream",
     "text": [
      "ingrese orden \n",
      "1\n",
      "el valor de la orden 1 es 0.521986658763\n",
      "el valor del error es -0.0439733175266\n",
      "None\n"
     ]
    }
   ],
   "source": [
    "import math \n",
    "x=math.pi/4\n",
    "h=math.pi/12\n",
    "orden=0\n",
    "valor=0;\n",
    "real=math.cos(math.pi/3)\n",
    "error=0\n",
    "\n",
    "print \"ingrese orden \"\n",
    "orden= input()\n",
    "def f():\n",
    "   \n",
    "    i=0\n",
    "\n",
    "    while(i<=orden):\n",
    "    \n",
    "        if(i==0):\n",
    "            valor= math.cos(x)\n",
    "            error=(real-valor)/real\n",
    "\n",
    "        elif (i==1):\n",
    "            valor=((valor)-(math.sin(x))*h)\n",
    "            error=(real-valor)/real\n",
    "\n",
    "        elif(i==2):\n",
    "            valor=(valor-((math.cos(x)*h**2)/math.factorial(2)))\n",
    "            error=(real-valor)/real\n",
    "\n",
    "        elif(i==3):\n",
    "            valor=valor+((math.sin(x)*h**3)/math.factorial(3))\n",
    "            error=(real-valor)/real\n",
    "\n",
    "\n",
    "        elif(i==4):\n",
    "            valor=valor+((math.cos(x)*h**4)/math.factorial(4))\n",
    "            error=(real-valor)/real\n",
    "\n",
    "\n",
    "        elif(i==5):\n",
    "            valor=valor-((math.sin(x)*h**5)/math.factorial(5))\n",
    "            error=(real-valor)/real\n",
    "\n",
    "\n",
    "        elif(i==6):\n",
    "            valor=valor-((math.cos(x)*h**6)/math.factorial(6))\n",
    "            error=(real-valor)/real\n",
    "        i=i+1\n",
    "    print \"el valor de la orden\",orden,\"es\",valor\n",
    "    print \"el valor del error es\",error\n",
    "    \n",
    "       \n",
    "        \n",
    "print f()\n",
    "        \n",
    "        \n",
    "        \n",
    "        \n",
    "        \n",
    "\n",
    "            \n",
    "\n",
    "            \n",
    "\n",
    "    \n",
    "    \n",
    "    \n",
    "    \n",
    "    \n",
    "    \n",
    "    \n"
   ]
  },
  {
   "cell_type": "code",
   "execution_count": null,
   "metadata": {
    "collapsed": true
   },
   "outputs": [],
   "source": []
  },
  {
   "cell_type": "code",
   "execution_count": null,
   "metadata": {
    "collapsed": true
   },
   "outputs": [],
   "source": []
  }
 ],
 "metadata": {
  "kernelspec": {
   "display_name": "Python 2",
   "language": "python",
   "name": "python2"
  },
  "language_info": {
   "codemirror_mode": {
    "name": "ipython",
    "version": 2
   },
   "file_extension": ".py",
   "mimetype": "text/x-python",
   "name": "python",
   "nbconvert_exporter": "python",
   "pygments_lexer": "ipython2",
   "version": "2.7.10"
  }
 },
 "nbformat": 4,
 "nbformat_minor": 0
}
